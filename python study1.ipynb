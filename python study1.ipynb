{
 "cells": [
  {
   "cell_type": "markdown",
   "metadata": {},
   "source": [
    "# 파이썬 스터디 기초 부터 자료형 까지...\n",
    "### 포맷팅이나 인덱싱 및 슬라이싱은 좋은 것 같더라."
   ]
  },
  {
   "cell_type": "code",
   "execution_count": 5,
   "metadata": {
    "collapsed": false
   },
   "outputs": [
    {
     "name": "stdout",
     "output_type": "stream",
     "text": [
      "1\n",
      "2\n",
      "3\n"
     ]
    }
   ],
   "source": [
    "##https://wikidocs.net/9\n",
    "1+2\n",
    "# 복소수 표현\n",
    "a = 2 + 4j\n",
    "a\n",
    "\n",
    "i = 0 \n",
    "while i < 3:\n",
    "    i = i+1\n",
    "    print(i)\n",
    "    "
   ]
  },
  {
   "cell_type": "markdown",
   "metadata": {},
   "source": [
    "|항목\t| 사용 예|\n",
    "|:---:|:---:|\n",
    "|정수\t|123, -345, 0|\n",
    "|실수\t|123.45, -1234.5, 3.4e10|\n",
    "|복소수|\t1 + 2j, -3j|\n",
    "|8진수|\t0o34, 0o25|\n",
    "|16진수|\t0x2A, 0xFF|"
   ]
  },
  {
   "cell_type": "code",
   "execution_count": 14,
   "metadata": {
    "collapsed": false
   },
   "outputs": [
    {
     "data": {
      "text/plain": [
       "1"
      ]
     },
     "execution_count": 14,
     "metadata": {},
     "output_type": "execute_result"
    }
   ],
   "source": [
    "# https://wikidocs.net/11\n",
    "# 자료형\n",
    "a.real\n",
    "a.conjugate()\n",
    "abs(a)\n",
    "\n",
    "a=3\n",
    "b=4\n",
    "a **b\n",
    "7%3\n",
    "3%7\n",
    "7/4\n",
    "7//4"
   ]
  },
  {
   "cell_type": "code",
   "execution_count": 24,
   "metadata": {
    "collapsed": false,
    "scrolled": true
   },
   "outputs": [
    {
     "name": "stdout",
     "output_type": "stream",
     "text": [
      "\n",
      "hahah\n",
      "djfie\n",
      "fiejfi\n",
      "\n"
     ]
    }
   ],
   "source": [
    "#https://wikidocs.net/13\n",
    "\"Hello World\"\n",
    "'Python is fun'\n",
    "\"\"\"Life is too short, You need python\"\"\"\n",
    "'''Life is too short, You need python'''\n",
    "\n",
    "food = 'Python\\'s favorite food is perl'\n",
    "food\n",
    "\n",
    "multiline='''\n",
    "hahah\n",
    "djfie\n",
    "fiejfi\n",
    "'''\n",
    "multiline\n",
    "print(multiline)"
   ]
  },
  {
   "cell_type": "markdown",
   "metadata": {},
   "source": [
    "[이스케이프 코드란?]\n",
    "\n",
    "문자열 예제에서 여러 줄의 문장을 처리할 때 백슬래시 문자와 소문자 n을 조합한 \\n 이스케이프 코드를 사용했다. 이스케이프 코드란 프로그래밍할 때 사용할 수 있도록 미리 정의해 둔 \"문자 조합\"이다. 주로 출력물을 보기 좋게 정렬하는 용도로 이용된다. 몇 가지 이스케이프 코드를 정리하면 다음과 같다.\n",
    "\n",
    "|코드|설명|\n",
    "|:---:|:---|\n",
    "|\\n|\t개행 (줄바꿈)|\n",
    "|\\t|\t수평 탭|\n",
    "|\\\\|\t문자 \"\\\"|\n",
    "|\\'|\t단일 인용부호(')|\n",
    "|\\\"|\t이중 인용부호(\")|\n",
    "|\\r|\t캐리지 리턴|\n",
    "|\\f|\t폼 피드|\n",
    "|\\a|\t벨 소리|\n",
    "|\\b|\t백 스페이스|\n",
    "|\\000|\t널문자|\n",
    "이중에서 활용빈도가 높은 것은 \\n, \\t, \\\\, \\', \\\"이다. 나머지는 프로그램에서 잘 사용되지 않는다."
   ]
  },
  {
   "cell_type": "code",
   "execution_count": 37,
   "metadata": {
    "collapsed": false,
    "scrolled": false
   },
   "outputs": [
    {
     "data": {
      "text/plain": [
       "'You need'"
      ]
     },
     "execution_count": 37,
     "metadata": {},
     "output_type": "execute_result"
    }
   ],
   "source": [
    " a = \"python\"\n",
    "a*2\n",
    "\n",
    "#인덱싱과 슬라이싱\n",
    "a = \"Life is too short, You need Python\"\n",
    "a[0],a[-1]\n",
    "a[0:4]\n",
    "a[19:]\n",
    "a[:17]\n",
    "a[:]\n",
    "a[19:-7]\n",
    "\n",
    "#문자열은 불변하다. 그러므로 문자열 치환을 슬라이스 후에 원하는 문자 대입하는 방식으로 이루어 진다."
   ]
  },
  {
   "cell_type": "markdown",
   "metadata": {},
   "source": [
    "## formatting\n",
    "d->숫자\n",
    "s->문자\n",
    "다수일 때는 튜플을 이용\n"
   ]
  },
  {
   "cell_type": "code",
   "execution_count": 39,
   "metadata": {
    "collapsed": false
   },
   "outputs": [
    {
     "data": {
      "text/plain": [
       "'Error is 98%.'"
      ]
     },
     "execution_count": 39,
     "metadata": {},
     "output_type": "execute_result"
    }
   ],
   "source": [
    " number = 10\n",
    "day = \"three\" \n",
    "\"I ate %d apples. so I was sick for %s days.\" % (number, day)\n",
    "\n",
    "\"Error is %d%%.\" % 98"
   ]
  },
  {
   "cell_type": "markdown",
   "metadata": {},
   "source": [
    "|코드|설명|\n",
    "|:---:|:---:|\n",
    "|%s|문자열 (String)|\n",
    "|%c\t|문자 1개(character)|\n",
    "|%d|\t정수 (Integer)|\n",
    "|%f|\t부동소수 (floating-point)|\n",
    "|%o|\t8진수|\n",
    "|%x|\t16진수|\n",
    "|%%|\tLiteral % (문자 % 자체)|"
   ]
  },
  {
   "cell_type": "code",
   "execution_count": 61,
   "metadata": {
    "collapsed": false
   },
   "outputs": [
    {
     "data": {
      "text/plain": [
       "'hi!!!!!!!!'"
      ]
     },
     "execution_count": 61,
     "metadata": {},
     "output_type": "execute_result"
    }
   ],
   "source": [
    "\"%10s\" % \"hi\"\n",
    "\"%-10sjane.\" % 'hi'\n",
    "\"%0.4f\" % 3.42134234\n",
    "\"%10.4f\" % 3.42134234\n",
    "\n",
    "a = \"hobby\"\n",
    "a.count('b')\n",
    "a = \"Python is best choice\"\n",
    "a.find('b')\n",
    "a.find('k')\n",
    "#index 함수는 없으면 오류\n",
    "a = ','\n",
    "a.join('abcd')\n",
    "a.join('abcd').upper().lower()\n",
    "a = \" jo \"\n",
    "a.lstrip()\n",
    "#기타 등등 함수가 존재\n",
    "\n",
    "a = \"Life is too short\"\n",
    "a.split()\n",
    "a=\"a:b:c:d\"\n",
    "a.split(':')\n",
    "\n",
    "\"I ate {number} apples. so I was sick for {day} days.\".format(number=3,day=5)\n",
    "\"I ate {0} apples. so I was sick for {day} days.\".format(10, day=3)\n",
    "\"{0:<10}\".format(\"hi\")\n",
    "\"{0:>10}\".format(\"hi\")\n",
    "\"{0:^10}\".format(\"hi\")\n",
    "\"{0:=^10}\".format(\"hi\")\n",
    "\"{0:!<10}\".format(\"hi\")"
   ]
  },
  {
   "cell_type": "code",
   "execution_count": null,
   "metadata": {
    "collapsed": true
   },
   "outputs": [],
   "source": []
  }
 ],
 "metadata": {
  "kernelspec": {
   "display_name": "Python 3",
   "language": "python",
   "name": "python3"
  },
  "language_info": {
   "codemirror_mode": {
    "name": "ipython",
    "version": 3
   },
   "file_extension": ".py",
   "mimetype": "text/x-python",
   "name": "python",
   "nbconvert_exporter": "python",
   "pygments_lexer": "ipython3",
   "version": "3.5.1"
  }
 },
 "nbformat": 4,
 "nbformat_minor": 0
}
